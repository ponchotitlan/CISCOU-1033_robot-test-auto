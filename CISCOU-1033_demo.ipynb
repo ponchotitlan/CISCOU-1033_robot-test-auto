{
 "cells": [
  {
   "cell_type": "markdown",
   "metadata": {},
   "source": [
    "# CISCOU-1033: Mastering Test Automation Bliss with Robot Framework 🤖💻🇳🇱\n",
    "\n",
    "## Welcome!\n",
    "***\n",
    "Glad to see you in my Cisco U session. In this demo we will explore live some of the most common Use Cases of software testing using the Robot Framework.\n",
    "The Use Cases are the following:\n",
    "\n",
    "- ```🤖 API Testing```: Testing a RESTful API endpoint for user creation\n",
    "- ```📁 File Handling```: Verifying content in a configuration file\n",
    "- ```📊 Database Testing```: Querying a database to verify data integrity\n",
    "- ```💻 Command Line Interface (CLI) Testing```: Running a script and checking its output"
   ]
  },
  {
   "cell_type": "markdown",
   "metadata": {},
   "source": [
    "## API testing\n",
    "***\n",
    "TBD\n"
   ]
  }
 ],
 "metadata": {
  "kernelspec": {
   "display_name": "venv",
   "language": "python",
   "name": "python3"
  },
  "language_info": {
   "name": "python",
   "version": "3.11.5"
  }
 },
 "nbformat": 4,
 "nbformat_minor": 2
}
