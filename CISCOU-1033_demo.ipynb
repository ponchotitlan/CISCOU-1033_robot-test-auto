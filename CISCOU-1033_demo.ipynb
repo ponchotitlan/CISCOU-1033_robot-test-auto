{
 "cells": [
  {
   "cell_type": "markdown",
   "metadata": {},
   "source": [
    "# CISCOU-1033: Mastering Test Automation Bliss with Robot Framework 🤖💻🇳🇱\n",
    "\n",
    "## Welcome!\n",
    "***\n",
    "Glad to see you in my Cisco U session. In this demo we will explore live some of the most common Use Cases of software testing using the Robot Framework.\n",
    "The Use Cases are the following:\n",
    "\n",
    "- ```🤖 API Testing```: Testing a RESTful API endpoint for user creation\n",
    "- ```📊 Database Testing```: Querying a database to verify data integrity\n",
    "- ```💻 Command Line Interface (CLI) Testing```: Running a script and checking its output"
   ]
  },
  {
   "cell_type": "markdown",
   "metadata": {},
   "source": [
    "## API testing\n",
    "***\n",
    "Our mock API server has two endpoints:\n",
    "\n",
    "```🤖 POST http://localhost:8080/devices 🤖``` for creating a new device\n",
    "\n",
    "```🤖 GET http://localhost:8080/devices/2 🤖``` for retrieving an existing device\n"
   ]
  },
  {
   "cell_type": "code",
   "execution_count": 2,
   "metadata": {},
   "outputs": [
    {
     "name": "stdout",
     "output_type": "stream",
     "text": [
      "==============================================================================\n",
      "1 Api Devices                                                                 \n",
      "==============================================================================\n",
      "Create a Network Device :: Test the creation of a network device i... | \u001b[32mPASS\u001b[0m |[0m\u001b[32m.\u001b[0m\u001b[32m.\u001b[0m\u001b[32m.\u001b[0m\n",
      "------------------------------------------------------------------------------\n",
      "Retrieve a Network Device :: Test the retrieval of an existing net... | \u001b[32mPASS\u001b[0m |[0m\u001b[32m.\u001b[0m\u001b[32m.\u001b[0m\u001b[32m.\u001b[0m\n",
      "------------------------------------------------------------------------------\n",
      "1 Api Devices                                                         | \u001b[32mPASS\u001b[0m |\n",
      "2 tests, 2 passed, 0 failed\n",
      "==============================================================================\n",
      "Output:  \u001b]8;;file:///Users/alfsando/Documents/CISCOU-1033_robot-test-auto/robot-tests/output.xml\u001b\\/Users/alfsando/Documents/CISCOU-1033_robot-test-auto/robot-tests/output.xml\u001b]8;;\u001b\\\n",
      "Log:     \u001b]8;;file:///Users/alfsando/Documents/CISCOU-1033_robot-test-auto/robot-tests/log.html\u001b\\/Users/alfsando/Documents/CISCOU-1033_robot-test-auto/robot-tests/log.html\u001b]8;;\u001b\\\n",
      "Report:  \u001b]8;;file:///Users/alfsando/Documents/CISCOU-1033_robot-test-auto/robot-tests/report.html\u001b\\/Users/alfsando/Documents/CISCOU-1033_robot-test-auto/robot-tests/report.html\u001b]8;;\u001b\\\n"
     ]
    }
   ],
   "source": [
    "!cd robot-tests && robot 1_api_devices.robot"
   ]
  },
  {
   "cell_type": "markdown",
   "metadata": {},
   "source": [
    "## Database testing\n",
    "***\n",
    "Our mock database is a PostgreSQL node with preloaded dummy data:\n",
    "\n",
    "Database ```📊 network_devices```\n",
    "\n",
    "```\n",
    "📊 devices (\n",
    "    id SERIAL PRIMARY KEY,\n",
    "    device_id INT NOT NULL,\n",
    "    location VARCHAR(255),\n",
    "    hostname VARCHAR(10),\n",
    "    status VARCHAR(50)\n",
    ");\n",
    "```\n",
    "\n",
    "Records\n",
    "\n",
    "```📊 (1, 'Lisbon', 'iosxr01', 'active')```\n",
    "\n",
    "```📊 (2, 'Amsterdam', 'iosxr02', 'inactive')```\n",
    "\n",
    "```📊 (3, 'MexicoCity', 'iosxr03', 'active')```"
   ]
  },
  {
   "cell_type": "code",
   "execution_count": 3,
   "metadata": {},
   "outputs": [
    {
     "name": "stdout",
     "output_type": "stream",
     "text": [
      "==============================================================================\n",
      "2 Database Devices                                                            \n",
      "==============================================================================\n",
      "Create a Network Device :: Test the creation of a network device i... | \u001b[32mPASS\u001b[0m |[0m\u001b[32m.\u001b[0m\u001b[32m.\u001b[0m\n",
      "------------------------------------------------------------------------------\n",
      "Retrieve a Network Device :: Test the retrieval of a network devic... | \u001b[32mPASS\u001b[0m |[0m\u001b[32m.\u001b[0m\u001b[32m.\u001b[0m\u001b[32m.\u001b[0m\u001b[32m.\u001b[0m\u001b[32m.\u001b[0m\u001b[32m.\u001b[0m\n",
      "------------------------------------------------------------------------------\n",
      "2 Database Devices                                                    | \u001b[32mPASS\u001b[0m |\n",
      "2 tests, 2 passed, 0 failed\n",
      "==============================================================================\n",
      "Output:  \u001b]8;;file:///Users/alfsando/Documents/CISCOU-1033_robot-test-auto/robot-tests/output.xml\u001b\\/Users/alfsando/Documents/CISCOU-1033_robot-test-auto/robot-tests/output.xml\u001b]8;;\u001b\\\n",
      "Log:     \u001b]8;;file:///Users/alfsando/Documents/CISCOU-1033_robot-test-auto/robot-tests/log.html\u001b\\/Users/alfsando/Documents/CISCOU-1033_robot-test-auto/robot-tests/log.html\u001b]8;;\u001b\\\n",
      "Report:  \u001b]8;;file:///Users/alfsando/Documents/CISCOU-1033_robot-test-auto/robot-tests/report.html\u001b\\/Users/alfsando/Documents/CISCOU-1033_robot-test-auto/robot-tests/report.html\u001b]8;;\u001b\\\n"
     ]
    }
   ],
   "source": [
    "!cd robot-tests && robot 2_database_devices.robot"
   ]
  },
  {
   "cell_type": "markdown",
   "metadata": {},
   "source": [
    "## Command Line Interface (CLI) Testing\n",
    "***\n",
    "Our mock Python script receives several input parameters and prints ```Success!!!``` if the operation was completed:\n",
    "\n",
    "```\n",
    "💻 python test_script_devices.py --help 💻\n",
    "usage: test_script_devices.py [-h] --device_name DEVICE_NAME --location LOCATION --ip_address IP_ADDRESS\n",
    "\n",
    "Network Device dummy script\n",
    "\n",
    "options:\n",
    "  --device_name DEVICE_NAME     Device hostname\n",
    "  --location LOCATION           Device location\n",
    "  --ip_address IP_ADDRESS       Device IP address\n",
    "```"
   ]
  },
  {
   "cell_type": "code",
   "execution_count": 4,
   "metadata": {},
   "outputs": [
    {
     "name": "stdout",
     "output_type": "stream",
     "text": [
      "==============================================================================\n",
      "3 Script Devices                                                              \n",
      "==============================================================================\n",
      "Run Device Script And Check Output :: Test case to run the device_... | \u001b[32mPASS\u001b[0m |[0m\u001b[32m.\u001b[0m\u001b[32m.\u001b[0m\u001b[32m.\u001b[0m\n",
      "------------------------------------------------------------------------------\n",
      "3 Script Devices                                                      | \u001b[32mPASS\u001b[0m |\n",
      "1 test, 1 passed, 0 failed\n",
      "==============================================================================\n",
      "Output:  \u001b]8;;file:///Users/alfsando/Documents/CISCOU-1033_robot-test-auto/robot-tests/output.xml\u001b\\/Users/alfsando/Documents/CISCOU-1033_robot-test-auto/robot-tests/output.xml\u001b]8;;\u001b\\\n",
      "Log:     \u001b]8;;file:///Users/alfsando/Documents/CISCOU-1033_robot-test-auto/robot-tests/log.html\u001b\\/Users/alfsando/Documents/CISCOU-1033_robot-test-auto/robot-tests/log.html\u001b]8;;\u001b\\\n",
      "Report:  \u001b]8;;file:///Users/alfsando/Documents/CISCOU-1033_robot-test-auto/robot-tests/report.html\u001b\\/Users/alfsando/Documents/CISCOU-1033_robot-test-auto/robot-tests/report.html\u001b]8;;\u001b\\\n"
     ]
    }
   ],
   "source": [
    "!cd robot-tests && robot 3_script_devices.robot"
   ]
  }
 ],
 "metadata": {
  "kernelspec": {
   "display_name": "venv",
   "language": "python",
   "name": "python3"
  },
  "language_info": {
   "codemirror_mode": {
    "name": "ipython",
    "version": 3
   },
   "file_extension": ".py",
   "mimetype": "text/x-python",
   "name": "python",
   "nbconvert_exporter": "python",
   "pygments_lexer": "ipython3",
   "version": "3.11.5"
  }
 },
 "nbformat": 4,
 "nbformat_minor": 2
}
